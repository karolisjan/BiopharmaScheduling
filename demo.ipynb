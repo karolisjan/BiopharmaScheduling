{
 "cells": [
  {
   "cell_type": "code",
   "execution_count": 2,
   "metadata": {
    "extensions": {
     "jupyter_dashboards": {
      "version": 1,
      "views": {
       "grid_default": {
        "col": 0,
        "height": 4,
        "hidden": true,
        "row": 0,
        "width": 4
       },
       "report_default": {}
      }
     }
    }
   },
   "outputs": [
    {
     "data": {
      "text/html": [
       "<script>\n",
       "code_show=false; \n",
       "function code_toggle() {\n",
       " if (code_show){\n",
       " $('div.input').hide();\n",
       " } else {\n",
       " $('div.input').show();\n",
       " }\n",
       " code_show = !code_show\n",
       "} \n",
       "$( document ).ready(code_toggle);\n",
       "</script>\n",
       "<form action=\"javascript:code_toggle()\"><input type=\"submit\" value=\"Show code\"></form>"
      ],
      "text/plain": [
       "<IPython.core.display.HTML object>"
      ]
     },
     "execution_count": 2,
     "metadata": {},
     "output_type": "execute_result"
    }
   ],
   "source": [
    "from IPython.display import HTML\n",
    "\n",
    "HTML('''<script>\n",
    "code_show=false; \n",
    "function code_toggle() {\n",
    " if (code_show){\n",
    " $('div.input').hide();\n",
    " } else {\n",
    " $('div.input').show();\n",
    " }\n",
    " code_show = !code_show\n",
    "} \n",
    "$( document ).ready(code_toggle);\n",
    "</script>\n",
    "<form action=\"javascript:code_toggle()\"><input type=\"submit\" value=\"Show code\"></form>''')"
   ]
  },
  {
   "cell_type": "code",
   "execution_count": 3,
   "metadata": {
    "collapsed": true,
    "extensions": {
     "jupyter_dashboards": {
      "version": 1,
      "views": {
       "grid_default": {
        "hidden": true
       },
       "report_default": {}
      }
     }
    }
   },
   "outputs": [],
   "source": [
    "import qgrid\n",
    "qgrid.nbinstall(overwrite=True)\n",
    "\n",
    "import pandas as pd\n",
    "pd.options.display.max_rows = 999\n",
    "pd.options.display.max_columns = 999"
   ]
  },
  {
   "cell_type": "code",
   "execution_count": 4,
   "metadata": {
    "collapsed": true,
    "extensions": {
     "jupyter_dashboards": {
      "version": 1,
      "views": {
       "grid_default": {
        "hidden": true
       },
       "report_default": {}
      }
     }
    }
   },
   "outputs": [],
   "source": [
    "import plotly\n",
    "import plotly.plotly as py\n",
    "import plotly.figure_factory as ff\n",
    "\n",
    "def make_gantt(schedule, start_date='2017-01-01'):        \n",
    "    df = schedule.reset_index()\n",
    "    \n",
    "    for col in ['Start', 'Finish']:\n",
    "        df[col] = df[col].apply(lambda x: (pd.Timedelta('%d days' % x) + pd.to_datetime(start_date)).date())\n",
    "        \n",
    "    df = df.to_dict('records')\n",
    "    \n",
    "    gantt = ff.create_gantt(df, showgrid_x=True, index_col='Resource', group_tasks=True, show_colorbar=True)\n",
    "    \n",
    "    for gantt_row, schedule_row in zip(gantt['data'], df):\n",
    "        text = \"No. batches produced: %d<br>Total duration: %d days\" \\\n",
    "            % (schedule_row['Batches'], (schedule_row['Finish'] - schedule_row['Start']).days)\n",
    "            \n",
    "        gantt_row.update({'text': text})\n",
    "        \n",
    "    return gantt"
   ]
  },
  {
   "cell_type": "code",
   "execution_count": 5,
   "metadata": {
    "extensions": {
     "jupyter_dashboards": {
      "version": 1,
      "views": {
       "grid_default": {
        "col": 8,
        "height": 4,
        "hidden": true,
        "row": 13,
        "width": 4
       },
       "report_default": {}
      }
     }
    }
   },
   "outputs": [
    {
     "name": "stdout",
     "output_type": "stream",
     "text": [
      "No. USP Suites: 2, no. DSP Suites: 2\n"
     ]
    }
   ],
   "source": [
    "num_usp_suites = 2\n",
    "num_dsp_suites = 2\n",
    "\n",
    "print(\"No. USP Suites: %d, no. DSP Suites: %d\" % (num_usp_suites, num_dsp_suites))"
   ]
  },
  {
   "cell_type": "code",
   "execution_count": 6,
   "metadata": {
    "extensions": {
     "jupyter_dashboards": {
      "version": 1,
      "views": {
       "grid_default": {
        "col": 0,
        "height": 7,
        "hidden": false,
        "row": 6,
        "width": 12
       },
       "report_default": {}
      }
     }
    }
   },
   "outputs": [
    {
     "data": {
      "application/vnd.jupyter.widget-view+json": {
       "model_id": "5654fb4747004cda99bdc1af4a588680"
      }
     },
     "metadata": {},
     "output_type": "display_data"
    }
   ],
   "source": [
    "product_data = pd.read_csv('data/product_data.csv', index_col='Product')\n",
    "qgrid.show_grid(product_data)"
   ]
  },
  {
   "cell_type": "code",
   "execution_count": 7,
   "metadata": {
    "extensions": {
     "jupyter_dashboards": {
      "version": 1,
      "views": {
       "grid_default": {
        "col": 0,
        "height": 6,
        "hidden": false,
        "row": 0,
        "width": 3
       },
       "report_default": {}
      }
     }
    }
   },
   "outputs": [
    {
     "data": {
      "application/vnd.jupyter.widget-view+json": {
       "model_id": "98559b9540fd4c48bfcda2bfe9cd72cb"
      }
     },
     "metadata": {},
     "output_type": "display_data"
    }
   ],
   "source": [
    "days_per_period = [60, 60, 60, 60, 60, 60]\n",
    "demand_data = pd.read_csv('data/demand_data.csv', index_col='Product')\n",
    "qgrid.show_grid(demand_data)"
   ]
  },
  {
   "cell_type": "code",
   "execution_count": 8,
   "metadata": {
    "extensions": {
     "jupyter_dashboards": {
      "version": 1,
      "views": {
       "grid_default": {
        "col": 3,
        "height": 2,
        "hidden": false,
        "row": 13,
        "width": 8
       },
       "report_default": {}
      }
     }
    }
   },
   "outputs": [
    {
     "name": "stderr",
     "output_type": "stream",
     "text": [
      "100%|█████████████████████████████████████████████████████████████████████████| 10000/10000 [00:09<00:00, 1101.67it/s]\n"
     ]
    },
    {
     "name": "stdout",
     "output_type": "stream",
     "text": [
      "Best solution found -> Profit: 518.00, Backlog penalty: 0.00\n"
     ]
    }
   ],
   "source": [
    "from lakhdar2005_continuous import Example1Model\n",
    "\n",
    "example1_model = Example1Model().fit(\n",
    "    num_usp_suites,\n",
    "    num_dsp_suites,\n",
    "    \n",
    "    demand_data.values,\n",
    "    days_per_period,\n",
    "    \n",
    "    product_data['USP storage cost'],\n",
    "    product_data['Sales price'],\n",
    "    product_data['Prod. cost'],\n",
    "    product_data['Waste disp. cost'],\n",
    "    product_data['DSP storage cost'],\n",
    "    product_data['Backlog penalty'],\n",
    "    product_data['Changeover cost'],\n",
    "    \n",
    "    product_data['USP rate [days]'],\n",
    "    product_data['USP lead [days]'],\n",
    "    product_data['USP lifetime [days]'],\n",
    "    product_data['USP cap. per 60 days'],\n",
    "    \n",
    "    product_data['DSP rate [days]'],\n",
    "    product_data['DSP lead [days]'],\n",
    "    product_data['DSP lifetime [days]'],\n",
    "    product_data['DSP cap. per 60 days']\n",
    ")"
   ]
  },
  {
   "cell_type": "code",
   "execution_count": 10,
   "metadata": {
    "extensions": {
     "jupyter_dashboards": {
      "version": 1,
      "views": {
       "grid_default": {
        "col": 1,
        "height": 21,
        "hidden": false,
        "row": 15,
        "width": 11
       },
       "report_default": {}
      }
     }
    },
    "scrolled": false
   },
   "outputs": [
    {
     "data": {
      "text/html": [
       "<iframe id=\"igraph\" scrolling=\"no\" style=\"border:none;\" seamless=\"seamless\" src=\"https://plot.ly/~karolisj/19.embed\" height=\"600px\" width=\"900px\"></iframe>"
      ],
      "text/plain": [
       "<plotly.tools.PlotlyDisplay object>"
      ]
     },
     "execution_count": 10,
     "metadata": {},
     "output_type": "execute_result"
    }
   ],
   "source": [
    "gantt = make_gantt(example1_model.schedule)\n",
    "py.iplot(gantt, filename='Lakhdar2005 Example1 Continuous-time Gantt', world_readable=True)"
   ]
  },
  {
   "cell_type": "code",
   "execution_count": 17,
   "metadata": {
    "extensions": {
     "jupyter_dashboards": {
      "version": 1,
      "views": {
       "grid_default": {
        "col": 0,
        "height": 5,
        "hidden": true,
        "row": 36,
        "width": 4
       },
       "report_default": {}
      }
     }
    }
   },
   "outputs": [
    {
     "data": {
      "text/html": [
       "<div>\n",
       "<table border=\"1\" class=\"dataframe\">\n",
       "  <thead>\n",
       "    <tr style=\"text-align: right;\">\n",
       "      <th></th>\n",
       "      <th>profit</th>\n",
       "      <th>sales</th>\n",
       "      <th>backlog_cost</th>\n",
       "      <th>production_cost</th>\n",
       "      <th>changeover_cost</th>\n",
       "      <th>dsp_storage_cost</th>\n",
       "      <th>dsp_waste_cost</th>\n",
       "    </tr>\n",
       "  </thead>\n",
       "  <tbody>\n",
       "    <tr>\n",
       "      <th>value</th>\n",
       "      <td>518.0</td>\n",
       "      <td>680.0</td>\n",
       "      <td>0.0</td>\n",
       "      <td>136.0</td>\n",
       "      <td>10.0</td>\n",
       "      <td>16.0</td>\n",
       "      <td>0.0</td>\n",
       "    </tr>\n",
       "  </tbody>\n",
       "</table>\n",
       "</div>"
      ],
      "text/plain": [
       "       profit  sales  backlog_cost  production_cost  changeover_cost  \\\n",
       "value   518.0  680.0           0.0            136.0             10.0   \n",
       "\n",
       "       dsp_storage_cost  dsp_waste_cost  \n",
       "value              16.0             0.0  "
      ]
     },
     "execution_count": 17,
     "metadata": {},
     "output_type": "execute_result"
    }
   ],
   "source": [
    "df = pd.DataFrame({key : [value] for key, value in example1_model.objectives.items()}, index=['value'])\n",
    "df[['profit', 'sales', 'backlog_cost', 'production_cost', 'changeover_cost', 'dsp_storage_cost', 'dsp_waste_cost']]"
   ]
  },
  {
   "cell_type": "code",
   "execution_count": 13,
   "metadata": {
    "extensions": {
     "jupyter_dashboards": {
      "version": 1,
      "views": {
       "grid_default": {
        "col": 4,
        "height": 4,
        "hidden": true,
        "row": 13,
        "width": 4
       },
       "report_default": {}
      }
     }
    }
   },
   "outputs": [
    {
     "data": {
      "text/plain": [
       "array([[0, 0, 3, 0, 3, 0],\n",
       "       [0, 3, 0, 0, 0, 0],\n",
       "       [4, 0, 0, 4, 0, 0]])"
      ]
     },
     "execution_count": 13,
     "metadata": {},
     "output_type": "execute_result"
    }
   ],
   "source": [
    "example1_model.inventory_profile"
   ]
  },
  {
   "cell_type": "code",
   "execution_count": 18,
   "metadata": {
    "extensions": {
     "jupyter_dashboards": {
      "version": 1,
      "views": {
       "grid_default": {
        "hidden": true
       },
       "report_default": {}
      }
     }
    }
   },
   "outputs": [
    {
     "data": {
      "text/plain": [
       "array([[0, 0, 0, 6, 0, 6],\n",
       "       [0, 0, 6, 0, 0, 0],\n",
       "       [0, 8, 0, 0, 8, 0]])"
      ]
     },
     "execution_count": 18,
     "metadata": {},
     "output_type": "execute_result"
    }
   ],
   "source": [
    "example1_model.sales_profile"
   ]
  },
  {
   "cell_type": "code",
   "execution_count": 20,
   "metadata": {},
   "outputs": [
    {
     "data": {
      "text/plain": [
       "array([[0, 0, 0, 0, 0, 0],\n",
       "       [0, 0, 0, 0, 0, 0],\n",
       "       [0, 0, 0, 0, 0, 0]])"
      ]
     },
     "execution_count": 20,
     "metadata": {},
     "output_type": "execute_result"
    }
   ],
   "source": [
    "example1_model.backlog_profile"
   ]
  },
  {
   "cell_type": "code",
   "execution_count": null,
   "metadata": {
    "collapsed": true
   },
   "outputs": [],
   "source": []
  }
 ],
 "metadata": {
  "extensions": {
   "jupyter_dashboards": {
    "activeView": "grid_default",
    "version": 1,
    "views": {
     "grid_default": {
      "cellMargin": 10,
      "defaultCellHeight": 20,
      "maxColumns": 12,
      "name": "grid",
      "type": "grid"
     },
     "report_default": {
      "name": "report",
      "type": "report"
     }
    }
   }
  },
  "kernelspec": {
   "display_name": "Python 3",
   "language": "python",
   "name": "python3"
  },
  "language_info": {
   "codemirror_mode": {
    "name": "ipython",
    "version": 3
   },
   "file_extension": ".py",
   "mimetype": "text/x-python",
   "name": "python",
   "nbconvert_exporter": "python",
   "pygments_lexer": "ipython3",
   "version": "3.5.3"
  }
 },
 "nbformat": 4,
 "nbformat_minor": 2
}
