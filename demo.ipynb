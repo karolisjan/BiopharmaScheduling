{
 "cells": [
  {
   "cell_type": "code",
   "execution_count": 1,
   "metadata": {
    "extensions": {
     "jupyter_dashboards": {
      "version": 1,
      "views": {
       "grid_default": {
        "col": 0,
        "height": 4,
        "hidden": true,
        "row": 0,
        "width": 4
       },
       "report_default": {}
      }
     }
    }
   },
   "outputs": [
    {
     "data": {
      "text/html": [
       "<script>\n",
       "code_show=false; \n",
       "function code_toggle() {\n",
       " if (code_show){\n",
       " $('div.input').hide();\n",
       " } else {\n",
       " $('div.input').show();\n",
       " }\n",
       " code_show = !code_show\n",
       "} \n",
       "$( document ).ready(code_toggle);\n",
       "</script>\n",
       "<form action=\"javascript:code_toggle()\"><input type=\"submit\" value=\"Show code\"></form>"
      ],
      "text/plain": [
       "<IPython.core.display.HTML object>"
      ]
     },
     "execution_count": 1,
     "metadata": {},
     "output_type": "execute_result"
    }
   ],
   "source": [
    "from IPython.display import HTML\n",
    "\n",
    "HTML('''<script>\n",
    "code_show=false; \n",
    "function code_toggle() {\n",
    " if (code_show){\n",
    " $('div.input').hide();\n",
    " } else {\n",
    " $('div.input').show();\n",
    " }\n",
    " code_show = !code_show\n",
    "} \n",
    "$( document ).ready(code_toggle);\n",
    "</script>\n",
    "<form action=\"javascript:code_toggle()\"><input type=\"submit\" value=\"Show code\"></form>''')"
   ]
  },
  {
   "cell_type": "markdown",
   "metadata": {},
   "source": [
    "<a id='index'></a>\n",
    "# Index\n",
    "- [Base case](#base_case) - original Example 1 from Lakhdar et al. (2005)\n",
    "- [Increased demand for product p1](#increased_p1_demand)\n",
    "- [Doubled demand profile](#doubled_demand_profile)"
   ]
  },
  {
   "cell_type": "code",
   "execution_count": 2,
   "metadata": {
    "extensions": {
     "jupyter_dashboards": {
      "version": 1,
      "views": {
       "grid_default": {
        "hidden": true
       },
       "report_default": {}
      }
     }
    }
   },
   "outputs": [],
   "source": [
    "import qgrid\n",
    "qgrid.nbinstall(overwrite=True)\n",
    "\n",
    "import pandas as pd\n",
    "pd.options.display.max_rows = 999\n",
    "pd.options.display.max_columns = 999\n",
    "\n",
    "import plotly\n",
    "import plotly.plotly as py\n",
    "import plotly.figure_factory as ff\n",
    "import plotly.graph_objs as go"
   ]
  },
  {
   "cell_type": "code",
   "execution_count": null,
   "metadata": {},
   "outputs": [],
   "source": [
    "# Run the following command once to set up your Plotly account to enable plotting\n",
    "# plotly.tools.set_credentials_file(username='DemoAccount', api_key='lr1c37zw81')"
   ]
  },
  {
   "cell_type": "code",
   "execution_count": 3,
   "metadata": {
    "extensions": {
     "jupyter_dashboards": {
      "version": 1,
      "views": {
       "grid_default": {
        "hidden": true
       },
       "report_default": {}
      }
     }
    }
   },
   "outputs": [],
   "source": [
    "def make_gantt(schedule, title, start_date='2017-01-01'):        \n",
    "    df = schedule.reset_index()\n",
    "    \n",
    "    for col in ['Start', 'Finish']:\n",
    "        df[col] = df[col].apply(lambda x: (pd.Timedelta('%d days' % x) + pd.to_datetime(start_date)).date())\n",
    "        \n",
    "    df = df.to_dict('records')\n",
    "    \n",
    "    colors = ['rgb(244, 66, 66)', 'rgb(65, 244, 92)', 'rgb(73, 65, 244)']\n",
    "\n",
    "    gantt = ff.create_gantt(df,\n",
    "                            title=title, \n",
    "                            colors=colors,\n",
    "                            showgrid_x=True,\n",
    "                            index_col='Resource', \n",
    "                            group_tasks=True, \n",
    "                            show_colorbar=True)\n",
    "    \n",
    "    for gantt_row, schedule_row in zip(gantt['data'], df):\n",
    "        text = \"No. batches produced: %d<br>Total duration: %d days\" \\\n",
    "            % (schedule_row['Batches'], (schedule_row['Finish'] - schedule_row['Start']).days)\n",
    "            \n",
    "        gantt_row.update({'text': text})\n",
    "        \n",
    "    return gantt\n",
    "\n",
    "def make_demand_supply_chart(sales_profile, demand_data, title):\n",
    "    x = ['t%d' % i for i in range(1, len(demand_data) + 1)]\n",
    "\n",
    "    trace1 = go.Bar(\n",
    "        x=x,\n",
    "        y=demand_data,\n",
    "        name='Demand',\n",
    "        opacity=0.6\n",
    "    )\n",
    "\n",
    "    trace2 = go.Bar(\n",
    "        x=x,\n",
    "        y=sales_profile,\n",
    "        name='Supply',\n",
    "        opacity=0.6\n",
    "    )\n",
    "\n",
    "    layout = go.Layout(\n",
    "        title=title,\n",
    "        yaxis=dict(\n",
    "            title='No. batches'),\n",
    "        xaxis=dict(\n",
    "            title='Time period')\n",
    "    )\n",
    "\n",
    "    return go.Figure(data=[trace1, trace2], layout=layout)"
   ]
  },
  {
   "cell_type": "markdown",
   "metadata": {},
   "source": [
    "<a id='base_case'></a>\n",
    "## Base case\n",
    "A continuous-time, genetic algorithm based solution to the original **Example 1 problem** from *\"[Medium term planning of biopharmaceutical manufacture using mathematical programming. Biotechnology progress](http://onlinelibrary.wiley.com/doi/10.1021/bp0501571/full)\"* by Lakhdar et al. (2005).\n",
    "\n",
    "[back to index](#index)"
   ]
  },
  {
   "cell_type": "code",
   "execution_count": 4,
   "metadata": {
    "extensions": {
     "jupyter_dashboards": {
      "version": 1,
      "views": {
       "grid_default": {
        "col": 8,
        "height": 4,
        "hidden": true,
        "row": 13,
        "width": 4
       },
       "report_default": {}
      }
     }
    }
   },
   "outputs": [
    {
     "name": "stdout",
     "output_type": "stream",
     "text": [
      "No. USP Suites: 2, no. DSP Suites: 2\n"
     ]
    }
   ],
   "source": [
    "num_usp_suites = 2\n",
    "num_dsp_suites = 2\n",
    "\n",
    "print(\"No. USP Suites: %d, no. DSP Suites: %d\" % (num_usp_suites, num_dsp_suites))"
   ]
  },
  {
   "cell_type": "code",
   "execution_count": 5,
   "metadata": {
    "extensions": {
     "jupyter_dashboards": {
      "version": 1,
      "views": {
       "grid_default": {
        "col": 0,
        "height": 7,
        "hidden": false,
        "row": 6,
        "width": 12
       },
       "report_default": {}
      }
     }
    }
   },
   "outputs": [
    {
     "data": {
      "text/html": [
       "<div>\n",
       "<table border=\"1\" class=\"dataframe\">\n",
       "  <thead>\n",
       "    <tr style=\"text-align: right;\">\n",
       "      <th></th>\n",
       "      <th>USP rate [days]</th>\n",
       "      <th>USP lead [days]</th>\n",
       "      <th>USP lifetime [days]</th>\n",
       "      <th>USP cap. per 60 days</th>\n",
       "      <th>DSP rate [days]</th>\n",
       "      <th>DSP lead [days]</th>\n",
       "      <th>DSP lifetime [days]</th>\n",
       "      <th>DSP cap. per 60 days</th>\n",
       "      <th>USP storage cost</th>\n",
       "      <th>Prod. cost</th>\n",
       "      <th>Waste disp. cost</th>\n",
       "      <th>Sales price</th>\n",
       "      <th>DSP storage cost</th>\n",
       "      <th>Backlog penalty</th>\n",
       "      <th>Changeover cost</th>\n",
       "    </tr>\n",
       "    <tr>\n",
       "      <th>Product</th>\n",
       "      <th></th>\n",
       "      <th></th>\n",
       "      <th></th>\n",
       "      <th></th>\n",
       "      <th></th>\n",
       "      <th></th>\n",
       "      <th></th>\n",
       "      <th></th>\n",
       "      <th></th>\n",
       "      <th></th>\n",
       "      <th></th>\n",
       "      <th></th>\n",
       "      <th></th>\n",
       "      <th></th>\n",
       "      <th></th>\n",
       "    </tr>\n",
       "  </thead>\n",
       "  <tbody>\n",
       "    <tr>\n",
       "      <th>p1</th>\n",
       "      <td>20.0</td>\n",
       "      <td>10</td>\n",
       "      <td>60</td>\n",
       "      <td>10</td>\n",
       "      <td>10</td>\n",
       "      <td>10.0</td>\n",
       "      <td>180</td>\n",
       "      <td>40</td>\n",
       "      <td>5</td>\n",
       "      <td>2</td>\n",
       "      <td>5</td>\n",
       "      <td>20</td>\n",
       "      <td>1</td>\n",
       "      <td>20</td>\n",
       "      <td>1</td>\n",
       "    </tr>\n",
       "    <tr>\n",
       "      <th>p2</th>\n",
       "      <td>22.2</td>\n",
       "      <td>10</td>\n",
       "      <td>60</td>\n",
       "      <td>10</td>\n",
       "      <td>10</td>\n",
       "      <td>10.0</td>\n",
       "      <td>180</td>\n",
       "      <td>40</td>\n",
       "      <td>5</td>\n",
       "      <td>2</td>\n",
       "      <td>5</td>\n",
       "      <td>20</td>\n",
       "      <td>1</td>\n",
       "      <td>20</td>\n",
       "      <td>1</td>\n",
       "    </tr>\n",
       "    <tr>\n",
       "      <th>p3</th>\n",
       "      <td>12.5</td>\n",
       "      <td>10</td>\n",
       "      <td>60</td>\n",
       "      <td>10</td>\n",
       "      <td>10</td>\n",
       "      <td>12.5</td>\n",
       "      <td>180</td>\n",
       "      <td>40</td>\n",
       "      <td>5</td>\n",
       "      <td>2</td>\n",
       "      <td>5</td>\n",
       "      <td>20</td>\n",
       "      <td>1</td>\n",
       "      <td>20</td>\n",
       "      <td>1</td>\n",
       "    </tr>\n",
       "  </tbody>\n",
       "</table>\n",
       "</div>"
      ],
      "text/plain": [
       "         USP rate [days]  USP lead [days]  USP lifetime [days]  \\\n",
       "Product                                                          \n",
       "p1                  20.0               10                   60   \n",
       "p2                  22.2               10                   60   \n",
       "p3                  12.5               10                   60   \n",
       "\n",
       "         USP cap. per 60 days  DSP rate [days]  DSP lead [days]  \\\n",
       "Product                                                           \n",
       "p1                         10               10             10.0   \n",
       "p2                         10               10             10.0   \n",
       "p3                         10               10             12.5   \n",
       "\n",
       "         DSP lifetime [days]  DSP cap. per 60 days  USP storage cost  \\\n",
       "Product                                                                \n",
       "p1                       180                    40                 5   \n",
       "p2                       180                    40                 5   \n",
       "p3                       180                    40                 5   \n",
       "\n",
       "         Prod. cost  Waste disp. cost  Sales price  DSP storage cost  \\\n",
       "Product                                                                \n",
       "p1                2                 5           20                 1   \n",
       "p2                2                 5           20                 1   \n",
       "p3                2                 5           20                 1   \n",
       "\n",
       "         Backlog penalty  Changeover cost  \n",
       "Product                                    \n",
       "p1                    20                1  \n",
       "p2                    20                1  \n",
       "p3                    20                1  "
      ]
     },
     "execution_count": 5,
     "metadata": {},
     "output_type": "execute_result"
    }
   ],
   "source": [
    "product_data = pd.read_csv('data/product_data.csv', index_col='Product')\n",
    "product_data"
   ]
  },
  {
   "cell_type": "code",
   "execution_count": 6,
   "metadata": {
    "extensions": {
     "jupyter_dashboards": {
      "version": 1,
      "views": {
       "grid_default": {
        "col": 0,
        "height": 6,
        "hidden": false,
        "row": 0,
        "width": 3
       },
       "report_default": {}
      }
     }
    }
   },
   "outputs": [
    {
     "name": "stderr",
     "output_type": "stream",
     "text": [
      "Widget Javascript not detected.  It may not be installed or enabled properly.\n"
     ]
    },
    {
     "data": {
      "application/vnd.jupyter.widget-view+json": {
       "model_id": "b10ceb4b23fc4e259ffc96bed52e3bc2"
      }
     },
     "metadata": {},
     "output_type": "display_data"
    }
   ],
   "source": [
    "days_per_period = [60, 60, 60, 60, 60, 60]\n",
    "demand_data = pd.read_csv('data/demand_data.csv', index_col='Product')\n",
    "qgrid.show_grid(demand_data)"
   ]
  },
  {
   "cell_type": "code",
   "execution_count": 7,
   "metadata": {
    "extensions": {
     "jupyter_dashboards": {
      "version": 1,
      "views": {
       "grid_default": {
        "col": 3,
        "height": 2,
        "hidden": false,
        "row": 13,
        "width": 8
       },
       "report_default": {}
      }
     }
    }
   },
   "outputs": [
    {
     "name": "stderr",
     "output_type": "stream",
     "text": [
      "                                                                                                                      \r"
     ]
    },
    {
     "name": "stdout",
     "output_type": "stream",
     "text": [
      "Run: 1, Best: 511.00\n"
     ]
    },
    {
     "name": "stderr",
     "output_type": "stream",
     "text": [
      "                                                                                                                      \r"
     ]
    },
    {
     "name": "stdout",
     "output_type": "stream",
     "text": [
      "Run: 2, Best: 515.00\n"
     ]
    },
    {
     "name": "stderr",
     "output_type": "stream",
     "text": [
      "                                                                                                                      \r"
     ]
    },
    {
     "name": "stdout",
     "output_type": "stream",
     "text": [
      "Run: 3, Best: 511.00\n"
     ]
    },
    {
     "name": "stderr",
     "output_type": "stream",
     "text": [
      "                                                                                                                      \r"
     ]
    },
    {
     "name": "stdout",
     "output_type": "stream",
     "text": [
      "Run: 4, Best: 515.00\n"
     ]
    },
    {
     "name": "stderr",
     "output_type": "stream",
     "text": [
      "                                                                                                                      \r"
     ]
    },
    {
     "name": "stdout",
     "output_type": "stream",
     "text": [
      "Run: 5, Best: 514.00\n"
     ]
    },
    {
     "name": "stderr",
     "output_type": "stream",
     "text": [
      "                                                                                                                      \r"
     ]
    },
    {
     "name": "stdout",
     "output_type": "stream",
     "text": [
      "Run: 6, Best: 506.00\n"
     ]
    },
    {
     "name": "stderr",
     "output_type": "stream",
     "text": [
      "                                                                                                                      \r"
     ]
    },
    {
     "name": "stdout",
     "output_type": "stream",
     "text": [
      "Run: 7, Best: 518.00\n"
     ]
    },
    {
     "name": "stderr",
     "output_type": "stream",
     "text": [
      "                                                                                                                      \r"
     ]
    },
    {
     "name": "stdout",
     "output_type": "stream",
     "text": [
      "Run: 8, Best: 518.00\n"
     ]
    },
    {
     "name": "stderr",
     "output_type": "stream",
     "text": [
      "                                                                                                                      \r"
     ]
    },
    {
     "name": "stdout",
     "output_type": "stream",
     "text": [
      "Run: 9, Best: 508.00\n"
     ]
    },
    {
     "name": "stderr",
     "output_type": "stream",
     "text": [
      "                                                                                                                      \r"
     ]
    },
    {
     "name": "stdout",
     "output_type": "stream",
     "text": [
      "Run: 10, Best: 511.00\n"
     ]
    },
    {
     "name": "stderr",
     "output_type": "stream",
     "text": [
      "100%|█████████████████████████████████████████████████████████████████████████| 10000/10000 [00:08<00:00, 1151.86it/s]\n"
     ]
    },
    {
     "name": "stdout",
     "output_type": "stream",
     "text": [
      "Best solution found -> Profit: 518.00, Backlog penalty: 0.00\n"
     ]
    }
   ],
   "source": [
    "from lakhdar2005_continuous import Example1Model\n",
    "\n",
    "example1_model = Example1Model().fit(\n",
    "    num_usp_suites,\n",
    "    num_dsp_suites,\n",
    "    \n",
    "    demand_data.values,\n",
    "    days_per_period,\n",
    "    \n",
    "    product_data['USP storage cost'],\n",
    "    product_data['Sales price'],\n",
    "    product_data['Prod. cost'],\n",
    "    product_data['Waste disp. cost'],\n",
    "    product_data['DSP storage cost'],\n",
    "    product_data['Backlog penalty'],\n",
    "    product_data['Changeover cost'],\n",
    "    \n",
    "    product_data['USP rate [days]'],\n",
    "    product_data['USP lead [days]'],\n",
    "    product_data['USP lifetime [days]'],\n",
    "    product_data['USP cap. per 60 days'],\n",
    "    \n",
    "    product_data['DSP rate [days]'],\n",
    "    product_data['DSP lead [days]'],\n",
    "    product_data['DSP lifetime [days]'],\n",
    "    product_data['DSP cap. per 60 days']\n",
    ")"
   ]
  },
  {
   "cell_type": "code",
   "execution_count": 8,
   "metadata": {
    "extensions": {
     "jupyter_dashboards": {
      "version": 1,
      "views": {
       "grid_default": {
        "col": 0,
        "height": 5,
        "hidden": true,
        "row": 36,
        "width": 4
       },
       "report_default": {}
      }
     }
    }
   },
   "outputs": [
    {
     "data": {
      "text/html": [
       "<div>\n",
       "<table border=\"1\" class=\"dataframe\">\n",
       "  <thead>\n",
       "    <tr style=\"text-align: right;\">\n",
       "      <th></th>\n",
       "      <th>profit</th>\n",
       "      <th>sales</th>\n",
       "      <th>backlog_cost</th>\n",
       "      <th>production_cost</th>\n",
       "      <th>changeover_cost</th>\n",
       "      <th>dsp_storage_cost</th>\n",
       "      <th>dsp_waste_cost</th>\n",
       "    </tr>\n",
       "  </thead>\n",
       "  <tbody>\n",
       "    <tr>\n",
       "      <th>value</th>\n",
       "      <td>518.0</td>\n",
       "      <td>680.0</td>\n",
       "      <td>0.0</td>\n",
       "      <td>136.0</td>\n",
       "      <td>10.0</td>\n",
       "      <td>16.0</td>\n",
       "      <td>0.0</td>\n",
       "    </tr>\n",
       "  </tbody>\n",
       "</table>\n",
       "</div>"
      ],
      "text/plain": [
       "       profit  sales  backlog_cost  production_cost  changeover_cost  \\\n",
       "value   518.0  680.0           0.0            136.0             10.0   \n",
       "\n",
       "       dsp_storage_cost  dsp_waste_cost  \n",
       "value              16.0             0.0  "
      ]
     },
     "execution_count": 8,
     "metadata": {},
     "output_type": "execute_result"
    }
   ],
   "source": [
    "df = pd.DataFrame({key : [value] for key, value in example1_model.objectives.items()}, index=['value'])\n",
    "df[['profit', 'sales', 'backlog_cost', 'production_cost', 'changeover_cost', 'dsp_storage_cost', 'dsp_waste_cost']]"
   ]
  },
  {
   "cell_type": "code",
   "execution_count": 9,
   "metadata": {
    "extensions": {
     "jupyter_dashboards": {
      "version": 1,
      "views": {
       "grid_default": {
        "col": 1,
        "height": 21,
        "hidden": false,
        "row": 15,
        "width": 11
       },
       "report_default": {}
      }
     }
    },
    "scrolled": false
   },
   "outputs": [
    {
     "name": "stdout",
     "output_type": "stream",
     "text": [
      "High five! You successfully sent some data to your account on plotly. View your plot in your browser at https://plot.ly/~karolis_j/0 or inside your plot.ly account where it is named 'Lakhdar2005 Example1 Continuous-time Gantt'\n"
     ]
    },
    {
     "data": {
      "text/html": [
       "<iframe id=\"igraph\" scrolling=\"no\" style=\"border:none;\" seamless=\"seamless\" src=\"https://plot.ly/~karolis_j/0.embed\" height=\"600px\" width=\"900px\"></iframe>"
      ],
      "text/plain": [
       "<plotly.tools.PlotlyDisplay object>"
      ]
     },
     "execution_count": 9,
     "metadata": {},
     "output_type": "execute_result"
    }
   ],
   "source": [
    "gantt = make_gantt(example1_model.schedule, 'Base case')\n",
    "py.iplot(gantt, filename='Lakhdar2005 Example1 Continuous-time Gantt', world_readable=True)"
   ]
  },
  {
   "cell_type": "code",
   "execution_count": 10,
   "metadata": {},
   "outputs": [
    {
     "data": {
      "text/html": [
       "<iframe id=\"igraph\" scrolling=\"no\" style=\"border:none;\" seamless=\"seamless\" src=\"https://plot.ly/~karolis_j/2.embed\" height=\"525px\" width=\"100%\"></iframe>"
      ],
      "text/plain": [
       "<plotly.tools.PlotlyDisplay object>"
      ]
     },
     "execution_count": 10,
     "metadata": {},
     "output_type": "execute_result"
    }
   ],
   "source": [
    "fig = make_demand_supply_chart(example1_model.sales_profile[0], demand_data.values[0], 'Product p1 Demand & Supply')\n",
    "py.iplot(fig, filename='p1-demand-supply')"
   ]
  },
  {
   "cell_type": "code",
   "execution_count": 11,
   "metadata": {},
   "outputs": [
    {
     "data": {
      "text/html": [
       "<iframe id=\"igraph\" scrolling=\"no\" style=\"border:none;\" seamless=\"seamless\" src=\"https://plot.ly/~karolis_j/4.embed\" height=\"525px\" width=\"100%\"></iframe>"
      ],
      "text/plain": [
       "<plotly.tools.PlotlyDisplay object>"
      ]
     },
     "execution_count": 11,
     "metadata": {},
     "output_type": "execute_result"
    }
   ],
   "source": [
    "fig = make_demand_supply_chart(example1_model.sales_profile[1], demand_data.values[1], 'Product p2 Demand & Supply')\n",
    "py.iplot(fig, filename='p2-demand-supply')"
   ]
  },
  {
   "cell_type": "code",
   "execution_count": 12,
   "metadata": {},
   "outputs": [
    {
     "data": {
      "text/html": [
       "<iframe id=\"igraph\" scrolling=\"no\" style=\"border:none;\" seamless=\"seamless\" src=\"https://plot.ly/~karolis_j/6.embed\" height=\"525px\" width=\"100%\"></iframe>"
      ],
      "text/plain": [
       "<plotly.tools.PlotlyDisplay object>"
      ]
     },
     "execution_count": 12,
     "metadata": {},
     "output_type": "execute_result"
    }
   ],
   "source": [
    "fig = make_demand_supply_chart(example1_model.sales_profile[2], demand_data.values[2], 'Product p3 Demand & Supply')\n",
    "py.iplot(fig, filename='p3-demand-supply')"
   ]
  },
  {
   "cell_type": "markdown",
   "metadata": {},
   "source": [
    "<a id='increased_p1_demand'></a>\n",
    "## Increased demand for product p1\n",
    "Demand for p1 at time period t6 is increased by 3 batches.\n",
    "\n",
    "[back to index](#index)"
   ]
  },
  {
   "cell_type": "code",
   "execution_count": 13,
   "metadata": {},
   "outputs": [
    {
     "name": "stderr",
     "output_type": "stream",
     "text": [
      "Widget Javascript not detected.  It may not be installed or enabled properly.\n"
     ]
    },
    {
     "data": {
      "application/vnd.jupyter.widget-view+json": {
       "model_id": "d284b0b411dd40d1806393ad66030a1b"
      }
     },
     "metadata": {},
     "output_type": "display_data"
    }
   ],
   "source": [
    "increased_p1_demand = demand_data.copy().values\n",
    "increased_p1_demand[0][-1] = 9\n",
    "increased_p1_demand = pd.DataFrame(increased_p1_demand.tolist(), columns=demand_data.columns, index=demand_data.index)\n",
    "qgrid.show_grid(increased_p1_demand)"
   ]
  },
  {
   "cell_type": "code",
   "execution_count": 14,
   "metadata": {},
   "outputs": [
    {
     "name": "stderr",
     "output_type": "stream",
     "text": [
      "                                                                                                                      \r"
     ]
    },
    {
     "name": "stdout",
     "output_type": "stream",
     "text": [
      "Run: 1, Best: 562.00\n"
     ]
    },
    {
     "name": "stderr",
     "output_type": "stream",
     "text": [
      "                                                                                                                      \r"
     ]
    },
    {
     "name": "stdout",
     "output_type": "stream",
     "text": [
      "Run: 2, Best: 562.00\n"
     ]
    },
    {
     "name": "stderr",
     "output_type": "stream",
     "text": [
      "                                                                                                                      \r"
     ]
    },
    {
     "name": "stdout",
     "output_type": "stream",
     "text": [
      "Run: 3, Best: 535.00\n"
     ]
    },
    {
     "name": "stderr",
     "output_type": "stream",
     "text": [
      "                                                                                                                      \r"
     ]
    },
    {
     "name": "stdout",
     "output_type": "stream",
     "text": [
      "Run: 4, Best: 561.00\n"
     ]
    },
    {
     "name": "stderr",
     "output_type": "stream",
     "text": [
      "                                                                                                                      \r"
     ]
    },
    {
     "name": "stdout",
     "output_type": "stream",
     "text": [
      "Run: 5, Best: 562.00\n"
     ]
    },
    {
     "name": "stderr",
     "output_type": "stream",
     "text": [
      "                                                                                                                      \r"
     ]
    },
    {
     "name": "stdout",
     "output_type": "stream",
     "text": [
      "Run: 6, Best: 542.00\n"
     ]
    },
    {
     "name": "stderr",
     "output_type": "stream",
     "text": [
      "                                                                                                                      \r"
     ]
    },
    {
     "name": "stdout",
     "output_type": "stream",
     "text": [
      "Run: 7, Best: 533.00\n"
     ]
    },
    {
     "name": "stderr",
     "output_type": "stream",
     "text": [
      "                                                                                                                      \r"
     ]
    },
    {
     "name": "stdout",
     "output_type": "stream",
     "text": [
      "Run: 8, Best: 563.00\n"
     ]
    },
    {
     "name": "stderr",
     "output_type": "stream",
     "text": [
      "                                                                                                                      \r"
     ]
    },
    {
     "name": "stdout",
     "output_type": "stream",
     "text": [
      "Run: 9, Best: 562.00\n"
     ]
    },
    {
     "name": "stderr",
     "output_type": "stream",
     "text": [
      "                                                                                                                      \r"
     ]
    },
    {
     "name": "stdout",
     "output_type": "stream",
     "text": [
      "Run: 10, Best: 562.00\n"
     ]
    },
    {
     "name": "stderr",
     "output_type": "stream",
     "text": [
      "100%|██████████████████████████████████████████████████████████████████████████| 10000/10000 [00:10<00:00, 917.73it/s]\n"
     ]
    },
    {
     "name": "stdout",
     "output_type": "stream",
     "text": [
      "Best solution found -> Profit: 563.00, Backlog penalty: 0.00\n"
     ]
    }
   ],
   "source": [
    "example1_model = Example1Model().fit(\n",
    "    num_usp_suites,\n",
    "    num_dsp_suites,\n",
    "    \n",
    "    increased_p1_demand.values,\n",
    "    days_per_period,\n",
    "    \n",
    "    product_data['USP storage cost'],\n",
    "    product_data['Sales price'],\n",
    "    product_data['Prod. cost'],\n",
    "    product_data['Waste disp. cost'],\n",
    "    product_data['DSP storage cost'],\n",
    "    product_data['Backlog penalty'],\n",
    "    product_data['Changeover cost'],\n",
    "    \n",
    "    product_data['USP rate [days]'],\n",
    "    product_data['USP lead [days]'],\n",
    "    product_data['USP lifetime [days]'],\n",
    "    product_data['USP cap. per 60 days'],\n",
    "    \n",
    "    product_data['DSP rate [days]'],\n",
    "    product_data['DSP lead [days]'],\n",
    "    product_data['DSP lifetime [days]'],\n",
    "    product_data['DSP cap. per 60 days']\n",
    ")"
   ]
  },
  {
   "cell_type": "code",
   "execution_count": 15,
   "metadata": {},
   "outputs": [
    {
     "data": {
      "text/html": [
       "<div>\n",
       "<table border=\"1\" class=\"dataframe\">\n",
       "  <thead>\n",
       "    <tr style=\"text-align: right;\">\n",
       "      <th></th>\n",
       "      <th>profit</th>\n",
       "      <th>sales</th>\n",
       "      <th>backlog_cost</th>\n",
       "      <th>production_cost</th>\n",
       "      <th>changeover_cost</th>\n",
       "      <th>dsp_storage_cost</th>\n",
       "      <th>dsp_waste_cost</th>\n",
       "    </tr>\n",
       "  </thead>\n",
       "  <tbody>\n",
       "    <tr>\n",
       "      <th>value</th>\n",
       "      <td>563.0</td>\n",
       "      <td>740.0</td>\n",
       "      <td>0.0</td>\n",
       "      <td>148.0</td>\n",
       "      <td>12.0</td>\n",
       "      <td>17.0</td>\n",
       "      <td>0.0</td>\n",
       "    </tr>\n",
       "  </tbody>\n",
       "</table>\n",
       "</div>"
      ],
      "text/plain": [
       "       profit  sales  backlog_cost  production_cost  changeover_cost  \\\n",
       "value   563.0  740.0           0.0            148.0             12.0   \n",
       "\n",
       "       dsp_storage_cost  dsp_waste_cost  \n",
       "value              17.0             0.0  "
      ]
     },
     "execution_count": 15,
     "metadata": {},
     "output_type": "execute_result"
    }
   ],
   "source": [
    "df = pd.DataFrame({key : [value] for key, value in example1_model.objectives.items()}, index=['value'])\n",
    "df[['profit', 'sales', 'backlog_cost', 'production_cost', 'changeover_cost', 'dsp_storage_cost', 'dsp_waste_cost']]"
   ]
  },
  {
   "cell_type": "code",
   "execution_count": 16,
   "metadata": {},
   "outputs": [
    {
     "name": "stdout",
     "output_type": "stream",
     "text": [
      "High five! You successfully sent some data to your account on plotly. View your plot in your browser at https://plot.ly/~karolis_j/0 or inside your plot.ly account where it is named 'Lakhdar2005 Example1 Continuous-time Gantt'\n"
     ]
    },
    {
     "data": {
      "text/html": [
       "<iframe id=\"igraph\" scrolling=\"no\" style=\"border:none;\" seamless=\"seamless\" src=\"https://plot.ly/~karolis_j/0.embed\" height=\"600px\" width=\"900px\"></iframe>"
      ],
      "text/plain": [
       "<plotly.tools.PlotlyDisplay object>"
      ]
     },
     "execution_count": 16,
     "metadata": {},
     "output_type": "execute_result"
    }
   ],
   "source": [
    "gantt = make_gantt(example1_model.schedule, \"Increased demand for p1\")\n",
    "py.iplot(gantt, filename='Lakhdar2005 Example1 Continuous-time Gantt', world_readable=True)"
   ]
  },
  {
   "cell_type": "code",
   "execution_count": 17,
   "metadata": {},
   "outputs": [
    {
     "data": {
      "text/html": [
       "<iframe id=\"igraph\" scrolling=\"no\" style=\"border:none;\" seamless=\"seamless\" src=\"https://plot.ly/~karolis_j/2.embed\" height=\"525px\" width=\"100%\"></iframe>"
      ],
      "text/plain": [
       "<plotly.tools.PlotlyDisplay object>"
      ]
     },
     "execution_count": 17,
     "metadata": {},
     "output_type": "execute_result"
    }
   ],
   "source": [
    "fig = make_demand_supply_chart(example1_model.sales_profile[0], increased_p1_demand.values[0], 'Product p1 Demand & Supply')\n",
    "py.iplot(fig, filename='p1-demand-supply')"
   ]
  },
  {
   "cell_type": "code",
   "execution_count": 18,
   "metadata": {},
   "outputs": [
    {
     "data": {
      "text/html": [
       "<iframe id=\"igraph\" scrolling=\"no\" style=\"border:none;\" seamless=\"seamless\" src=\"https://plot.ly/~karolis_j/4.embed\" height=\"525px\" width=\"100%\"></iframe>"
      ],
      "text/plain": [
       "<plotly.tools.PlotlyDisplay object>"
      ]
     },
     "execution_count": 18,
     "metadata": {},
     "output_type": "execute_result"
    }
   ],
   "source": [
    "fig = make_demand_supply_chart(example1_model.sales_profile[1], increased_p1_demand.values[1], 'Product p2 Demand & Supply')\n",
    "py.iplot(fig, filename='p2-demand-supply')"
   ]
  },
  {
   "cell_type": "code",
   "execution_count": 19,
   "metadata": {},
   "outputs": [
    {
     "data": {
      "text/html": [
       "<iframe id=\"igraph\" scrolling=\"no\" style=\"border:none;\" seamless=\"seamless\" src=\"https://plot.ly/~karolis_j/6.embed\" height=\"525px\" width=\"100%\"></iframe>"
      ],
      "text/plain": [
       "<plotly.tools.PlotlyDisplay object>"
      ]
     },
     "execution_count": 19,
     "metadata": {},
     "output_type": "execute_result"
    }
   ],
   "source": [
    "fig = make_demand_supply_chart(example1_model.sales_profile[2], increased_p1_demand.values[2], 'Product p3 Demand & Supply')\n",
    "py.iplot(fig, filename='p3-demand-supply')"
   ]
  },
  {
   "cell_type": "markdown",
   "metadata": {},
   "source": [
    "<a id='doubled_demand_profile'></a>\n",
    "## Doubled demand profile\n",
    "The demand profile from the original Example 1 problem is repeated for another year.\n",
    "\n",
    "[back to index](#index)"
   ]
  },
  {
   "cell_type": "code",
   "execution_count": 20,
   "metadata": {},
   "outputs": [
    {
     "name": "stderr",
     "output_type": "stream",
     "text": [
      "Widget Javascript not detected.  It may not be installed or enabled properly.\n"
     ]
    },
    {
     "data": {
      "application/vnd.jupyter.widget-view+json": {
       "model_id": "29e29c1a59b24da3bc1f91a4623722b2"
      }
     },
     "metadata": {},
     "output_type": "display_data"
    }
   ],
   "source": [
    "import numpy as np\n",
    "\n",
    "columns = ['t%d' % _ for _  in range(1, 13)]\n",
    "doubled_demand_profile = pd.DataFrame(np.hstack([demand_data.values, demand_data.values]).tolist(), \n",
    "                                      columns=columns, \n",
    "                                      index=demand_data.index)\n",
    "\n",
    "days_per_period_doubled = days_per_period + days_per_period\n",
    "\n",
    "qgrid.show_grid(doubled_demand_profile)"
   ]
  },
  {
   "cell_type": "code",
   "execution_count": 21,
   "metadata": {},
   "outputs": [
    {
     "name": "stderr",
     "output_type": "stream",
     "text": [
      "                                                                                                                      \r"
     ]
    },
    {
     "name": "stdout",
     "output_type": "stream",
     "text": [
      "Run: 1, Best: 918.00\n"
     ]
    },
    {
     "name": "stderr",
     "output_type": "stream",
     "text": [
      "                                                                                                                      \r"
     ]
    },
    {
     "name": "stdout",
     "output_type": "stream",
     "text": [
      "Run: 2, Best: 995.00\n"
     ]
    },
    {
     "name": "stderr",
     "output_type": "stream",
     "text": [
      "                                                                                                                      \r"
     ]
    },
    {
     "name": "stdout",
     "output_type": "stream",
     "text": [
      "Run: 3, Best: 983.00\n"
     ]
    },
    {
     "name": "stderr",
     "output_type": "stream",
     "text": [
      "                                                                                                                      \r"
     ]
    },
    {
     "name": "stdout",
     "output_type": "stream",
     "text": [
      "Run: 4, Best: 982.00\n"
     ]
    },
    {
     "name": "stderr",
     "output_type": "stream",
     "text": [
      "                                                                                                                      \r"
     ]
    },
    {
     "name": "stdout",
     "output_type": "stream",
     "text": [
      "Run: 5, Best: 981.00\n"
     ]
    },
    {
     "name": "stderr",
     "output_type": "stream",
     "text": [
      "                                                                                                                      \r"
     ]
    },
    {
     "name": "stdout",
     "output_type": "stream",
     "text": [
      "Run: 6, Best: 902.00\n"
     ]
    },
    {
     "name": "stderr",
     "output_type": "stream",
     "text": [
      "                                                                                                                      \r"
     ]
    },
    {
     "name": "stdout",
     "output_type": "stream",
     "text": [
      "Run: 7, Best: 1000.00\n"
     ]
    },
    {
     "name": "stderr",
     "output_type": "stream",
     "text": [
      "                                                                                                                      \r"
     ]
    },
    {
     "name": "stdout",
     "output_type": "stream",
     "text": [
      "Run: 8, Best: 1005.00\n"
     ]
    },
    {
     "name": "stderr",
     "output_type": "stream",
     "text": [
      "                                                                                                                      \r"
     ]
    },
    {
     "name": "stdout",
     "output_type": "stream",
     "text": [
      "Run: 9, Best: 960.00\n"
     ]
    },
    {
     "name": "stderr",
     "output_type": "stream",
     "text": [
      "                                                                                                                      \r"
     ]
    },
    {
     "name": "stdout",
     "output_type": "stream",
     "text": [
      "Run: 10, Best: 964.00\n"
     ]
    },
    {
     "name": "stderr",
     "output_type": "stream",
     "text": [
      "100%|██████████████████████████████████████████████████████████████████████████| 10000/10000 [00:15<00:00, 628.13it/s]\n"
     ]
    },
    {
     "name": "stdout",
     "output_type": "stream",
     "text": [
      "Best solution found -> Profit: 1005.00, Backlog penalty: 0.00\n"
     ]
    }
   ],
   "source": [
    "example1_model = Example1Model().fit(\n",
    "    num_usp_suites,\n",
    "    num_dsp_suites,\n",
    "    \n",
    "    doubled_demand_profile.values,\n",
    "    days_per_period_doubled,\n",
    "    \n",
    "    product_data['USP storage cost'],\n",
    "    product_data['Sales price'],\n",
    "    product_data['Prod. cost'],\n",
    "    product_data['Waste disp. cost'],\n",
    "    product_data['DSP storage cost'],\n",
    "    product_data['Backlog penalty'],\n",
    "    product_data['Changeover cost'],\n",
    "    \n",
    "    product_data['USP rate [days]'],\n",
    "    product_data['USP lead [days]'],\n",
    "    product_data['USP lifetime [days]'],\n",
    "    product_data['USP cap. per 60 days'],\n",
    "    \n",
    "    product_data['DSP rate [days]'],\n",
    "    product_data['DSP lead [days]'],\n",
    "    product_data['DSP lifetime [days]'],\n",
    "    product_data['DSP cap. per 60 days']\n",
    ")"
   ]
  },
  {
   "cell_type": "code",
   "execution_count": 22,
   "metadata": {},
   "outputs": [
    {
     "name": "stdout",
     "output_type": "stream",
     "text": [
      "High five! You successfully sent some data to your account on plotly. View your plot in your browser at https://plot.ly/~karolis_j/0 or inside your plot.ly account where it is named 'Lakhdar2005 Example1 Continuous-time Gantt'\n"
     ]
    },
    {
     "data": {
      "text/html": [
       "<iframe id=\"igraph\" scrolling=\"no\" style=\"border:none;\" seamless=\"seamless\" src=\"https://plot.ly/~karolis_j/0.embed\" height=\"600px\" width=\"900px\"></iframe>"
      ],
      "text/plain": [
       "<plotly.tools.PlotlyDisplay object>"
      ]
     },
     "execution_count": 22,
     "metadata": {},
     "output_type": "execute_result"
    }
   ],
   "source": [
    "gantt = make_gantt(example1_model.schedule, \"Doubled demand profile\")\n",
    "py.iplot(gantt, filename='Lakhdar2005 Example1 Continuous-time Gantt', world_readable=True)"
   ]
  },
  {
   "cell_type": "code",
   "execution_count": 23,
   "metadata": {},
   "outputs": [
    {
     "data": {
      "text/html": [
       "<div>\n",
       "<table border=\"1\" class=\"dataframe\">\n",
       "  <thead>\n",
       "    <tr style=\"text-align: right;\">\n",
       "      <th></th>\n",
       "      <th>profit</th>\n",
       "      <th>sales</th>\n",
       "      <th>backlog_cost</th>\n",
       "      <th>production_cost</th>\n",
       "      <th>changeover_cost</th>\n",
       "      <th>dsp_storage_cost</th>\n",
       "      <th>dsp_waste_cost</th>\n",
       "    </tr>\n",
       "  </thead>\n",
       "  <tbody>\n",
       "    <tr>\n",
       "      <th>value</th>\n",
       "      <td>1005.0</td>\n",
       "      <td>1360.0</td>\n",
       "      <td>0.0</td>\n",
       "      <td>274.0</td>\n",
       "      <td>30.0</td>\n",
       "      <td>51.0</td>\n",
       "      <td>0.0</td>\n",
       "    </tr>\n",
       "  </tbody>\n",
       "</table>\n",
       "</div>"
      ],
      "text/plain": [
       "       profit   sales  backlog_cost  production_cost  changeover_cost  \\\n",
       "value  1005.0  1360.0           0.0            274.0             30.0   \n",
       "\n",
       "       dsp_storage_cost  dsp_waste_cost  \n",
       "value              51.0             0.0  "
      ]
     },
     "execution_count": 23,
     "metadata": {},
     "output_type": "execute_result"
    }
   ],
   "source": [
    "df = pd.DataFrame({key : [value] for key, value in example1_model.objectives.items()}, index=['value'])\n",
    "df[['profit', 'sales', 'backlog_cost', 'production_cost', 'changeover_cost', 'dsp_storage_cost', 'dsp_waste_cost']]"
   ]
  },
  {
   "cell_type": "code",
   "execution_count": 24,
   "metadata": {},
   "outputs": [
    {
     "data": {
      "text/html": [
       "<iframe id=\"igraph\" scrolling=\"no\" style=\"border:none;\" seamless=\"seamless\" src=\"https://plot.ly/~karolis_j/2.embed\" height=\"525px\" width=\"100%\"></iframe>"
      ],
      "text/plain": [
       "<plotly.tools.PlotlyDisplay object>"
      ]
     },
     "execution_count": 24,
     "metadata": {},
     "output_type": "execute_result"
    }
   ],
   "source": [
    "fig = make_demand_supply_chart(example1_model.sales_profile[0], doubled_demand_profile.values[0], 'Product p1 Demand & Supply')\n",
    "py.iplot(fig, filename='p1-demand-supply')"
   ]
  },
  {
   "cell_type": "code",
   "execution_count": 25,
   "metadata": {},
   "outputs": [
    {
     "data": {
      "text/html": [
       "<iframe id=\"igraph\" scrolling=\"no\" style=\"border:none;\" seamless=\"seamless\" src=\"https://plot.ly/~karolis_j/4.embed\" height=\"525px\" width=\"100%\"></iframe>"
      ],
      "text/plain": [
       "<plotly.tools.PlotlyDisplay object>"
      ]
     },
     "execution_count": 25,
     "metadata": {},
     "output_type": "execute_result"
    }
   ],
   "source": [
    "fig = make_demand_supply_chart(example1_model.sales_profile[1], doubled_demand_profile.values[1], 'Product p2 Demand & Supply')\n",
    "py.iplot(fig, filename='p2-demand-supply')"
   ]
  },
  {
   "cell_type": "code",
   "execution_count": 26,
   "metadata": {},
   "outputs": [
    {
     "data": {
      "text/html": [
       "<iframe id=\"igraph\" scrolling=\"no\" style=\"border:none;\" seamless=\"seamless\" src=\"https://plot.ly/~karolis_j/6.embed\" height=\"525px\" width=\"100%\"></iframe>"
      ],
      "text/plain": [
       "<plotly.tools.PlotlyDisplay object>"
      ]
     },
     "execution_count": 26,
     "metadata": {},
     "output_type": "execute_result"
    }
   ],
   "source": [
    "fig = make_demand_supply_chart(example1_model.sales_profile[2], doubled_demand_profile.values[2], 'Product p3 Demand & Supply')\n",
    "py.iplot(fig, filename='p3-demand-supply')"
   ]
  },
  {
   "cell_type": "markdown",
   "metadata": {},
   "source": [
    "[back to index](#index)"
   ]
  }
 ],
 "metadata": {
  "extensions": {
   "jupyter_dashboards": {
    "activeView": "grid_default",
    "version": 1,
    "views": {
     "grid_default": {
      "cellMargin": 10,
      "defaultCellHeight": 20,
      "maxColumns": 12,
      "name": "grid",
      "type": "grid"
     },
     "report_default": {
      "name": "report",
      "type": "report"
     }
    }
   }
  },
  "kernelspec": {
   "display_name": "Python 3",
   "language": "python",
   "name": "python3"
  },
  "language_info": {
   "codemirror_mode": {
    "name": "ipython",
    "version": 3
   },
   "file_extension": ".py",
   "mimetype": "text/x-python",
   "name": "python",
   "nbconvert_exporter": "python",
   "pygments_lexer": "ipython3",
   "version": "3.5.3"
  }
 },
 "nbformat": 4,
 "nbformat_minor": 2
}
