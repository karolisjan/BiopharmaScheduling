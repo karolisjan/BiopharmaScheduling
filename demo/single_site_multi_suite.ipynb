{
 "cells": [
  {
   "cell_type": "markdown",
   "metadata": {},
   "source": [
    "<a id='index'></a>\n",
    "# Index\n",
    "- [Base case](#base_case) - original Example 1 from Lakhdar et al. (2005)\n",
    "- [Increased demand for product p1](#increased_p1_demand)\n",
    "- [Doubled demand profile](#doubled_demand_profile)"
   ]
  },
  {
   "cell_type": "code",
   "execution_count": null,
   "metadata": {
    "extensions": {
     "jupyter_dashboards": {
      "version": 1,
      "views": {
       "grid_default": {
        "hidden": true
       },
       "report_default": {}
      }
     }
    }
   },
   "outputs": [],
   "source": [
    "import pandas as pd\n",
    "pd.options.display.max_rows = 999\n",
    "pd.options.display.max_columns = 999\n",
    "\n",
    "import plotly.offline as opy\n",
    "import plotly.graph_objs as go\n",
    "import plotly.figure_factory as ff\n",
    "\n",
    "from IPython.core.display import display, HTML\n",
    "\n",
    "from biopharma_scheduling_ESCAPE27.scheduling_models import Example1Model"
   ]
  },
  {
   "cell_type": "code",
   "execution_count": null,
   "metadata": {},
   "outputs": [],
   "source": [
    "opy.init_notebook_mode()"
   ]
  },
  {
   "cell_type": "code",
   "execution_count": null,
   "metadata": {
    "extensions": {
     "jupyter_dashboards": {
      "version": 1,
      "views": {
       "grid_default": {
        "hidden": true
       },
       "report_default": {}
      }
     }
    }
   },
   "outputs": [],
   "source": [
    "def make_demand_supply_chart(sales_profile, demand_data, title):\n",
    "    x = ['t%d' % i for i in range(1, len(demand_data) + 1)]\n",
    "\n",
    "    trace1 = go.Bar(\n",
    "        x=x,\n",
    "        y=demand_data,\n",
    "        name='Demand',\n",
    "        opacity=0.6\n",
    "    )\n",
    "\n",
    "    trace2 = go.Bar(\n",
    "        x=x,\n",
    "        y=sales_profile,\n",
    "        name='Supply',\n",
    "        opacity=0.6\n",
    "    )\n",
    "\n",
    "    layout = go.Layout(\n",
    "        title=title,\n",
    "        yaxis=dict(\n",
    "            title='No. batches'),\n",
    "        xaxis=dict(\n",
    "            title='Time period')\n",
    "    )\n",
    "\n",
    "    return opy.iplot(go.Figure(data=[trace1, trace2], layout=layout))"
   ]
  },
  {
   "cell_type": "code",
   "execution_count": null,
   "metadata": {},
   "outputs": [],
   "source": [
    "colors = ['rgb(244, 66, 66)', 'rgb(65, 244, 92)', 'rgb(73, 65, 244)']\n",
    "\n",
    "def make_gantt(schedule, title, colors=colors, start_date='2017-01-01'):        \n",
    "    df = schedule.reset_index()\n",
    "    df = df[df['Resource'] != 'Product p0']\n",
    "    \n",
    "    for col in ['Start', 'Finish']:\n",
    "        df[col] = df[col].apply(lambda x: (pd.Timedelta('%d days' % x) + pd.to_datetime(start_date)).date())\n",
    "        \n",
    "    df = df.to_dict('records')\n",
    "    \n",
    "    gantt = ff.create_gantt(df, colors=colors, showgrid_x=True, index_col='Resource', group_tasks=True)\n",
    "\n",
    "    gantt['layout'].update({'title': ''})\n",
    "    gantt['layout'].update({'width': 800})\n",
    "    gantt['layout'].update({'height': 500})\n",
    "    gantt['layout'].update({\n",
    "        'xaxis': {\n",
    "            'tickangle': -30,\n",
    "            'side': 'top'\n",
    "        }\n",
    "    })\n",
    "    \n",
    "    return opy.iplot(\n",
    "        gantt,\n",
    "        config=dict(\n",
    "            displaylogo=False,\n",
    "            modeBarButtonsToRemove=['sendDataToCloud']\n",
    "        )\n",
    "    )"
   ]
  },
  {
   "cell_type": "markdown",
   "metadata": {},
   "source": [
    "<a id='base_case'></a>\n",
    "## Base case\n",
    "A continuous-time, genetic algorithm based solution to the original **Example 1 problem** from *\"[Medium term planning of biopharmaceutical manufacture using mathematical programming. Biotechnology progress](http://onlinelibrary.wiley.com/doi/10.1021/bp0501571/full)\"* by Lakhdar et al. (2005).\n",
    "\n",
    "[back to index](#index)"
   ]
  },
  {
   "cell_type": "code",
   "execution_count": null,
   "metadata": {
    "extensions": {
     "jupyter_dashboards": {
      "version": 1,
      "views": {
       "grid_default": {
        "col": 8,
        "height": 4,
        "hidden": true,
        "row": 13,
        "width": 4
       },
       "report_default": {}
      }
     }
    }
   },
   "outputs": [],
   "source": [
    "num_usp_suites = 2\n",
    "num_dsp_suites = 2\n",
    "\n",
    "print(\"No. USP Suites: %d, no. DSP Suites: %d\" % (num_usp_suites, num_dsp_suites))"
   ]
  },
  {
   "cell_type": "code",
   "execution_count": null,
   "metadata": {
    "extensions": {
     "jupyter_dashboards": {
      "version": 1,
      "views": {
       "grid_default": {
        "col": 0,
        "height": 7,
        "hidden": false,
        "row": 6,
        "width": 12
       },
       "report_default": {}
      }
     }
    }
   },
   "outputs": [],
   "source": [
    "product_data = pd.read_csv('product_data.csv', index_col='Product')\n",
    "product_data"
   ]
  },
  {
   "cell_type": "code",
   "execution_count": null,
   "metadata": {
    "extensions": {
     "jupyter_dashboards": {
      "version": 1,
      "views": {
       "grid_default": {
        "col": 0,
        "height": 6,
        "hidden": false,
        "row": 0,
        "width": 3
       },
       "report_default": {}
      }
     }
    }
   },
   "outputs": [],
   "source": [
    "days_per_period = [60, 60, 60, 60, 60, 60]\n",
    "demand_data = pd.read_csv('demand_data.csv', index_col='Product')"
   ]
  },
  {
   "cell_type": "code",
   "execution_count": null,
   "metadata": {
    "extensions": {
     "jupyter_dashboards": {
      "version": 1,
      "views": {
       "grid_default": {
        "col": 3,
        "height": 2,
        "hidden": false,
        "row": 13,
        "width": 8
       },
       "report_default": {}
      }
     }
    }
   },
   "outputs": [],
   "source": [
    "example1_model = Example1Model().fit(\n",
    "    num_usp_suites,\n",
    "    num_dsp_suites,\n",
    "    \n",
    "    demand_data.values,\n",
    "    days_per_period,\n",
    "    \n",
    "    product_data['USP storage cost'],\n",
    "    product_data['Sales price'],\n",
    "    product_data['Prod. cost'],\n",
    "    product_data['Waste disp. cost'],\n",
    "    product_data['DSP storage cost'],\n",
    "    product_data['Backlog penalty'],\n",
    "    product_data['Changeover cost'],\n",
    "    \n",
    "    product_data['USP rate [days]'],\n",
    "    product_data['USP lead [days]'],\n",
    "    product_data['USP lifetime [days]'],\n",
    "    product_data['USP cap. per 60 days'],\n",
    "    \n",
    "    product_data['DSP rate [days]'],\n",
    "    product_data['DSP lead [days]'],\n",
    "    product_data['DSP lifetime [days]'],\n",
    "    product_data['DSP cap. per 60 days']\n",
    ")"
   ]
  },
  {
   "cell_type": "code",
   "execution_count": null,
   "metadata": {
    "extensions": {
     "jupyter_dashboards": {
      "version": 1,
      "views": {
       "grid_default": {
        "col": 0,
        "height": 5,
        "hidden": true,
        "row": 36,
        "width": 4
       },
       "report_default": {}
      }
     }
    }
   },
   "outputs": [],
   "source": [
    "df = pd.DataFrame({key : [value] for key, value in example1_model.objectives.items()}, index=['value'])\n",
    "df[['profit', 'sales', 'backlog_cost', 'production_cost', 'changeover_cost', 'dsp_storage_cost', 'dsp_waste_cost']]"
   ]
  },
  {
   "cell_type": "code",
   "execution_count": null,
   "metadata": {},
   "outputs": [],
   "source": [
    "example1_model.schedule"
   ]
  },
  {
   "cell_type": "code",
   "execution_count": null,
   "metadata": {
    "extensions": {
     "jupyter_dashboards": {
      "version": 1,
      "views": {
       "grid_default": {
        "col": 1,
        "height": 21,
        "hidden": false,
        "row": 15,
        "width": 11
       },
       "report_default": {}
      }
     }
    },
    "scrolled": false
   },
   "outputs": [],
   "source": [
    "make_gantt(example1_model.schedule, 'Base case')"
   ]
  },
  {
   "cell_type": "code",
   "execution_count": null,
   "metadata": {},
   "outputs": [],
   "source": [
    "make_demand_supply_chart(example1_model.sales_profile[0], demand_data.values[0], 'Product p1 Demand & Supply')"
   ]
  },
  {
   "cell_type": "code",
   "execution_count": null,
   "metadata": {},
   "outputs": [],
   "source": [
    "make_demand_supply_chart(example1_model.sales_profile[1], demand_data.values[1], 'Product p2 Demand & Supply')"
   ]
  },
  {
   "cell_type": "code",
   "execution_count": null,
   "metadata": {},
   "outputs": [],
   "source": [
    "make_demand_supply_chart(example1_model.sales_profile[2], demand_data.values[2], 'Product p3 Demand & Supply')"
   ]
  },
  {
   "cell_type": "markdown",
   "metadata": {},
   "source": [
    "<a id='increased_p1_demand'></a>\n",
    "## Increased demand for product p1\n",
    "Demand for p1 at time period t6 is increased by 3 batches.\n",
    "\n",
    "[back to index](#index)"
   ]
  },
  {
   "cell_type": "code",
   "execution_count": null,
   "metadata": {},
   "outputs": [],
   "source": [
    "increased_p1_demand = demand_data.copy().values\n",
    "increased_p1_demand[0][-1] = 9\n",
    "increased_p1_demand = pd.DataFrame(increased_p1_demand.tolist(), columns=demand_data.columns, index=demand_data.index)"
   ]
  },
  {
   "cell_type": "code",
   "execution_count": null,
   "metadata": {},
   "outputs": [],
   "source": [
    "example1_model = Example1Model().fit(\n",
    "    num_usp_suites,\n",
    "    num_dsp_suites,\n",
    "    \n",
    "    increased_p1_demand.values,\n",
    "    days_per_period,\n",
    "    \n",
    "    product_data['USP storage cost'],\n",
    "    product_data['Sales price'],\n",
    "    product_data['Prod. cost'],\n",
    "    product_data['Waste disp. cost'],\n",
    "    product_data['DSP storage cost'],\n",
    "    product_data['Backlog penalty'],\n",
    "    product_data['Changeover cost'],\n",
    "    \n",
    "    product_data['USP rate [days]'],\n",
    "    product_data['USP lead [days]'],\n",
    "    product_data['USP lifetime [days]'],\n",
    "    product_data['USP cap. per 60 days'],\n",
    "    \n",
    "    product_data['DSP rate [days]'],\n",
    "    product_data['DSP lead [days]'],\n",
    "    product_data['DSP lifetime [days]'],\n",
    "    product_data['DSP cap. per 60 days']\n",
    ")"
   ]
  },
  {
   "cell_type": "code",
   "execution_count": null,
   "metadata": {},
   "outputs": [],
   "source": [
    "df = pd.DataFrame({key : [value] for key, value in example1_model.objectives.items()}, index=['value'])\n",
    "df[['profit', 'sales', 'backlog_cost', 'production_cost', 'changeover_cost', 'dsp_storage_cost', 'dsp_waste_cost']]"
   ]
  },
  {
   "cell_type": "code",
   "execution_count": null,
   "metadata": {},
   "outputs": [],
   "source": [
    "make_gantt(example1_model.schedule, \"Increased demand for p1\")"
   ]
  },
  {
   "cell_type": "code",
   "execution_count": null,
   "metadata": {},
   "outputs": [],
   "source": [
    "make_demand_supply_chart(example1_model.sales_profile[0], increased_p1_demand.values[0], 'Product p1 Demand & Supply')"
   ]
  },
  {
   "cell_type": "code",
   "execution_count": null,
   "metadata": {},
   "outputs": [],
   "source": [
    "make_demand_supply_chart(example1_model.sales_profile[1], increased_p1_demand.values[1], 'Product p2 Demand & Supply')"
   ]
  },
  {
   "cell_type": "code",
   "execution_count": null,
   "metadata": {},
   "outputs": [],
   "source": [
    "make_demand_supply_chart(example1_model.sales_profile[2], increased_p1_demand.values[2], 'Product p3 Demand & Supply')"
   ]
  },
  {
   "cell_type": "markdown",
   "metadata": {},
   "source": [
    "<a id='doubled_demand_profile'></a>\n",
    "## Doubled demand profile\n",
    "The demand profile from the original Example 1 problem is repeated for another year.\n",
    "\n",
    "[back to index](#index)"
   ]
  },
  {
   "cell_type": "code",
   "execution_count": null,
   "metadata": {},
   "outputs": [],
   "source": [
    "import numpy as np\n",
    "\n",
    "columns = ['t%d' % _ for _  in range(1, 13)]\n",
    "doubled_demand_profile = pd.DataFrame(np.hstack([demand_data.values, demand_data.values]).tolist(), \n",
    "                                      columns=columns, \n",
    "                                      index=demand_data.index)\n",
    "\n",
    "days_per_period_doubled = days_per_period + days_per_period"
   ]
  },
  {
   "cell_type": "code",
   "execution_count": null,
   "metadata": {},
   "outputs": [],
   "source": [
    "example1_model = Example1Model().fit(\n",
    "    num_usp_suites,\n",
    "    num_dsp_suites,\n",
    "    \n",
    "    doubled_demand_profile.values,\n",
    "    days_per_period_doubled,\n",
    "    \n",
    "    product_data['USP storage cost'],\n",
    "    product_data['Sales price'],\n",
    "    product_data['Prod. cost'],\n",
    "    product_data['Waste disp. cost'],\n",
    "    product_data['DSP storage cost'],\n",
    "    product_data['Backlog penalty'],\n",
    "    product_data['Changeover cost'],\n",
    "    \n",
    "    product_data['USP rate [days]'],\n",
    "    product_data['USP lead [days]'],\n",
    "    product_data['USP lifetime [days]'],\n",
    "    product_data['USP cap. per 60 days'],\n",
    "    \n",
    "    product_data['DSP rate [days]'],\n",
    "    product_data['DSP lead [days]'],\n",
    "    product_data['DSP lifetime [days]'],\n",
    "    product_data['DSP cap. per 60 days']\n",
    ")"
   ]
  },
  {
   "cell_type": "code",
   "execution_count": null,
   "metadata": {},
   "outputs": [],
   "source": [
    "make_gantt(example1_model.schedule, \"Doubled demand profile\")"
   ]
  },
  {
   "cell_type": "code",
   "execution_count": null,
   "metadata": {},
   "outputs": [],
   "source": [
    "df = pd.DataFrame({key : [value] for key, value in example1_model.objectives.items()}, index=['value'])\n",
    "df[['profit', 'sales', 'backlog_cost', 'production_cost', 'changeover_cost', 'dsp_storage_cost', 'dsp_waste_cost']]"
   ]
  },
  {
   "cell_type": "code",
   "execution_count": null,
   "metadata": {},
   "outputs": [],
   "source": [
    "make_demand_supply_chart(example1_model.sales_profile[0], doubled_demand_profile.values[0], 'Product p1 Demand & Supply')"
   ]
  },
  {
   "cell_type": "code",
   "execution_count": null,
   "metadata": {},
   "outputs": [],
   "source": [
    "make_demand_supply_chart(example1_model.sales_profile[1], doubled_demand_profile.values[1], 'Product p2 Demand & Supply')"
   ]
  },
  {
   "cell_type": "code",
   "execution_count": null,
   "metadata": {},
   "outputs": [],
   "source": [
    "make_demand_supply_chart(example1_model.sales_profile[2], doubled_demand_profile.values[2], 'Product p3 Demand & Supply')"
   ]
  },
  {
   "cell_type": "markdown",
   "metadata": {},
   "source": [
    "[back to index](#index)"
   ]
  }
 ],
 "metadata": {
  "extensions": {
   "jupyter_dashboards": {
    "activeView": "grid_default",
    "version": 1,
    "views": {
     "grid_default": {
      "cellMargin": 10,
      "defaultCellHeight": 20,
      "maxColumns": 12,
      "name": "grid",
      "type": "grid"
     },
     "report_default": {
      "name": "report",
      "type": "report"
     }
    }
   }
  },
  "kernelspec": {
   "display_name": "continuous-time-capacity-planning",
   "language": "python",
   "name": "continuous-time-capacity-planning"
  },
  "language_info": {
   "codemirror_mode": {
    "name": "ipython",
    "version": 3
   },
   "file_extension": ".py",
   "mimetype": "text/x-python",
   "name": "python",
   "nbconvert_exporter": "python",
   "pygments_lexer": "ipython3",
   "version": "3.5.2"
  },
  "latex_envs": {
   "LaTeX_envs_menu_present": true,
   "autoclose": false,
   "autocomplete": true,
   "bibliofile": "biblio.bib",
   "cite_by": "apalike",
   "current_citInitial": 1,
   "eqLabelWithNumbers": true,
   "eqNumInitial": 1,
   "hotkeys": {
    "equation": "Ctrl-E",
    "itemize": "Ctrl-I"
   },
   "labels_anchors": false,
   "latex_user_defs": false,
   "report_style_numbering": false,
   "user_envs_cfg": false
  }
 },
 "nbformat": 4,
 "nbformat_minor": 2
}
